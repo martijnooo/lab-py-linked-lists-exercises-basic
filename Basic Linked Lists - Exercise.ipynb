{
 "cells": [
  {
   "cell_type": "markdown",
   "metadata": {},
   "source": [
    "## LAB | PY Linked Lists Exercises (Basic)"
   ]
  },
  {
   "cell_type": "markdown",
   "metadata": {},
   "source": [
    "\n",
    "This exercise notebook will help you practice working with linked lists in Python. You will write programs to implement various linked list operations, enhancing your understanding of data structures.\n"
   ]
  },
  {
   "cell_type": "markdown",
   "metadata": {},
   "source": []
  },
  {
   "cell_type": "markdown",
   "metadata": {},
   "source": [
    "\n",
    "## Instructions\n"
   ]
  },
  {
   "cell_type": "markdown",
   "metadata": {},
   "source": [
    "\n",
    "- Complete each exercise by writing the appropriate Python code.\n",
    "- Test your code to ensure it behaves as expected.\n"
   ]
  },
  {
   "cell_type": "markdown",
   "metadata": {},
   "source": [
    "\n",
    "### Exercise 1: Create a Linked List\n"
   ]
  },
  {
   "cell_type": "markdown",
   "metadata": {},
   "source": [
    "\n",
    "Write a Python program to create a linked list and display its elements.\n",
    "\n",
    "---\n"
   ]
  },
  {
   "cell_type": "code",
   "execution_count": 46,
   "metadata": {},
   "outputs": [],
   "source": [
    "# Write your code HERE\n",
    "class Node:\n",
    "    def __init__(self, data):\n",
    "        self.next = None\n",
    "        self.data = data\n",
    "\n",
    "class LinkedList:\n",
    "    def __init__(self):\n",
    "        self.head = None\n",
    "\n",
    "    def append(self, data):\n",
    "        new_node = Node(data)\n",
    "\n",
    "        if not self.head:\n",
    "            self.head = new_node\n",
    "            return\n",
    "        \n",
    "        current_node = self.head\n",
    "        while current_node.next:\n",
    "            current_node = current_node.next\n",
    "        current_node.next = new_node\n",
    "\n",
    "    def print_list(self):\n",
    "        current_node = self.head\n",
    "        while current_node:\n",
    "            print(current_node.data, end=\" -> \")\n",
    "            current_node = current_node.next\n",
    "        print(\"None\")\n",
    "\n",
    "    def insertAtBeginning(self, data):\n",
    "        new_node = Node(data)\n",
    "        new_node.next = self.head\n",
    "        self.head = new_node\n",
    "\n",
    "    def insertAtIndex(self, data, index):\n",
    "        if index == 1:\n",
    "            self.insertAtBeginning(data)\n",
    "            return\n",
    "        \n",
    "        position = 1\n",
    "        current_node = self.head\n",
    "        new_node = Node(data)\n",
    "        while current_node.next:\n",
    "            if position + 1 == index:\n",
    "                new_node.next = current_node.next\n",
    "                current_node.next = new_node\n",
    "                return\n",
    "            current_node = current_node.next\n",
    "            position += 1\n",
    "        current_node.next = new_node\n",
    "        \n",
    "    def deleteAtIndex(self, index):\n",
    "       \n",
    "        if index == 0:\n",
    "            self.head = self.head.next\n",
    "            return\n",
    "\n",
    "        position = 0\n",
    "        \n",
    "        current_node = self.head\n",
    "        while current_node.next and position + 1 < index:\n",
    "            current_node = current_node.next\n",
    "            position += 1\n",
    "\n",
    "        # Case 2: If index is out of range\n",
    "        if not current_node.next:  \n",
    "            print(\"Index is out of range\")\n",
    "            return\n",
    "\n",
    "        # Case 3: Normal deletion\n",
    "        current_node.next = current_node.next.next\n",
    "\n",
    "    #Write a Python program that reverses the linked list and displays the reversed list.\n",
    "    def reversedList(self):\n",
    "        if self.head is None or self.head.next is None:  # Handle empty and single-node lists\n",
    "            return\n",
    "\n",
    "        prev_node = None\n",
    "        current_node = self.head  # Start from the head\n",
    "\n",
    "        while current_node is not None:\n",
    "            next_node = current_node.next  # Store next node\n",
    "            current_node.next = prev_node  # Reverse the pointer\n",
    "            prev_node = current_node  # Move prev_node to current node\n",
    "            current_node = next_node  # Move to the next node\n",
    "        self.head = prev_node\n",
    "\n",
    "    def find(self, data):\n",
    "        current_node = self.head\n",
    "\n",
    "        index = 0\n",
    "        while current_node is not None:\n",
    "            if data == current_node.data:\n",
    "                print(f\"Exists in node with index {index}\")\n",
    "            current_node = current_node.next\n",
    "            index += 1\n",
    "            \n"
   ]
  },
  {
   "cell_type": "markdown",
   "metadata": {},
   "source": [
    "\n",
    "### Exercise 2: Append a Node\n",
    "\n",
    "Write a Python program to append a new node at the end of a linked list and display the updated list.\n",
    "\n",
    "---\n"
   ]
  },
  {
   "cell_type": "code",
   "execution_count": 47,
   "metadata": {},
   "outputs": [],
   "source": [
    "# Write your code HERE\n",
    "llist = LinkedList()\n",
    "llist.append(1)\n",
    "llist.append(5)\n",
    "llist.append(3)\n",
    "llist.insertAtBeginning(10)\n",
    "llist.insertAtIndex(30,4)\n",
    "llist.deleteAtIndex(2)"
   ]
  },
  {
   "cell_type": "code",
   "execution_count": 48,
   "metadata": {},
   "outputs": [
    {
     "name": "stdout",
     "output_type": "stream",
     "text": [
      "10 -> 1 -> 30 -> 3 -> None\n"
     ]
    }
   ],
   "source": [
    "llist.print_list()"
   ]
  },
  {
   "cell_type": "code",
   "execution_count": 49,
   "metadata": {},
   "outputs": [
    {
     "name": "stdout",
     "output_type": "stream",
     "text": [
      "3 -> 30 -> 1 -> 10 -> None\n"
     ]
    }
   ],
   "source": [
    "llist.reversedList()\n",
    "llist.print_list()"
   ]
  },
  {
   "cell_type": "code",
   "execution_count": 50,
   "metadata": {},
   "outputs": [
    {
     "name": "stdout",
     "output_type": "stream",
     "text": [
      "Exists in node with index 3\n"
     ]
    }
   ],
   "source": [
    "llist.find(10)"
   ]
  },
  {
   "cell_type": "markdown",
   "metadata": {},
   "source": [
    "\n",
    "### Exercise 3: Prepend a Node\n",
    "\n",
    "Write a Python program to prepend a new node at the beginning of a linked list and display the updated list.\n",
    "\n",
    "---\n"
   ]
  },
  {
   "cell_type": "code",
   "execution_count": 51,
   "metadata": {},
   "outputs": [],
   "source": [
    "# Write your code HERE\n",
    "\n",
    "# inserted above\n"
   ]
  },
  {
   "cell_type": "markdown",
   "metadata": {},
   "source": [
    "\n",
    "### Exercise 4: Insert a Node After a Given Node\n",
    "\n",
    "Write a Python program that inserts a new node after a specified node in the linked list and displays the updated list.\n",
    "\n",
    "---\n"
   ]
  },
  {
   "cell_type": "code",
   "execution_count": 52,
   "metadata": {},
   "outputs": [],
   "source": [
    "# Write your code HERE\n",
    "\n",
    "# inserted above"
   ]
  },
  {
   "cell_type": "markdown",
   "metadata": {},
   "source": [
    "\n",
    "### Exercise 5: Delete a Node\n",
    "\n",
    "Write a Python program to delete a specified node from the linked list and display the updated list.\n",
    "\n",
    "---\n"
   ]
  },
  {
   "cell_type": "code",
   "execution_count": 53,
   "metadata": {},
   "outputs": [],
   "source": [
    "# Write your code HERE\n",
    "\n",
    "# inserted above"
   ]
  },
  {
   "cell_type": "markdown",
   "metadata": {},
   "source": [
    "\n",
    "## Bonus Exercises\n"
   ]
  },
  {
   "cell_type": "markdown",
   "metadata": {},
   "source": [
    "\n",
    "### Bonus Exercise 1: Reverse a Linked List\n",
    "\n",
    "Write a Python program that reverses the linked list and displays the reversed list.\n",
    "\n",
    "---\n"
   ]
  },
  {
   "cell_type": "code",
   "execution_count": 54,
   "metadata": {},
   "outputs": [],
   "source": [
    "# Write your code HERE"
   ]
  },
  {
   "cell_type": "markdown",
   "metadata": {},
   "source": [
    "\n",
    "### Bonus Exercise 2: Search for an Element\n",
    "\n",
    "Write a Python program that searches for an element in the linked list and returns its position if found.\n",
    "\n",
    "---\n"
   ]
  },
  {
   "cell_type": "code",
   "execution_count": 55,
   "metadata": {},
   "outputs": [],
   "source": [
    "# Write your code HERE"
   ]
  },
  {
   "cell_type": "markdown",
   "metadata": {},
   "source": [
    "\n",
    "## Exercise Completion\n"
   ]
  },
  {
   "cell_type": "markdown",
   "metadata": {},
   "source": [
    "\n",
    "Once you have completed all exercises:\n",
    "\n",
    "- Review your solutions.\n",
    "- Ensure your code is well-documented with comments explaining your logic.\n",
    "- Save your notebook for submission or further review.\n",
    "\n",
    "Happy coding! Enjoy practicing Linked Lists in Python!\n"
   ]
  },
  {
   "cell_type": "markdown",
   "metadata": {},
   "source": []
  }
 ],
 "metadata": {
  "kernelspec": {
   "display_name": "datasci_env",
   "language": "python",
   "name": "python3"
  },
  "language_info": {
   "codemirror_mode": {
    "name": "ipython",
    "version": 3
   },
   "file_extension": ".py",
   "mimetype": "text/x-python",
   "name": "python",
   "nbconvert_exporter": "python",
   "pygments_lexer": "ipython3",
   "version": "3.8.20"
  }
 },
 "nbformat": 4,
 "nbformat_minor": 2
}
